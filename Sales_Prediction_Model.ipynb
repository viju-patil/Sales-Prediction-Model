{
  "nbformat": 4,
  "nbformat_minor": 0,
  "metadata": {
    "colab": {
      "provenance": []
    },
    "kernelspec": {
      "name": "python3",
      "display_name": "Python 3"
    },
    "language_info": {
      "name": "python"
    }
  },
  "cells": [
    {
      "cell_type": "markdown",
      "source": [],
      "metadata": {
        "id": "YgDnIszCY4vO"
      }
    },
    {
      "cell_type": "markdown",
      "source": [
        "**Step 1: Preprocess the Data**"
      ],
      "metadata": {
        "id": "5tqIKCl1VNAj"
      }
    },
    {
      "cell_type": "code",
      "execution_count": 1,
      "metadata": {
        "colab": {
          "base_uri": "https://localhost:8080/"
        },
        "id": "opEFE0_WU_WQ",
        "outputId": "acef92b3-536d-49d7-eaed-1b42cf5b8cfd"
      },
      "outputs": [
        {
          "output_type": "stream",
          "name": "stdout",
          "text": [
            "      price  area  bedrooms  bathrooms  stories mainroad guestroom basement  \\\n",
            "0  13300000  7420         4          2        3      yes        no       no   \n",
            "1  12250000  8960         4          4        4      yes        no       no   \n",
            "2  12250000  9960         3          2        2      yes        no      yes   \n",
            "3  12215000  7500         4          2        2      yes        no      yes   \n",
            "4  11410000  7420         4          1        2      yes       yes      yes   \n",
            "\n",
            "  hotwaterheating airconditioning  parking prefarea furnishingstatus  \n",
            "0              no             yes        2      yes        furnished  \n",
            "1              no             yes        3       no        furnished  \n",
            "2              no              no        2      yes   semi-furnished  \n",
            "3              no             yes        3      yes        furnished  \n",
            "4              no             yes        2       no        furnished  \n"
          ]
        }
      ],
      "source": [
        "import pandas as pd\n",
        "\n",
        "data = pd.read_csv('/content/Housing.csv')\n",
        "print(data.head())\n"
      ]
    },
    {
      "cell_type": "code",
      "source": [
        "\n"
      ],
      "metadata": {
        "id": "G20o5NC8XKIo"
      },
      "execution_count": 1,
      "outputs": []
    },
    {
      "cell_type": "code",
      "source": [
        ""
      ],
      "metadata": {
        "id": "yClzMVtfXRGO"
      },
      "execution_count": 1,
      "outputs": []
    },
    {
      "cell_type": "markdown",
      "source": [
        "**Step 2: Split Data into Train and Test Sets**"
      ],
      "metadata": {
        "id": "wrNiho5BVXqZ"
      }
    },
    {
      "cell_type": "code",
      "source": [
        "from sklearn.model_selection import train_test_split"
      ],
      "metadata": {
        "id": "zxIjVNbHVQyi"
      },
      "execution_count": 2,
      "outputs": []
    },
    {
      "cell_type": "code",
      "source": [
        "# Convert 'yes/no' columns to binary values (0/1)\n",
        "data['mainroad'] = data['mainroad'].map({'yes': 1, 'no': 0})\n",
        "data['guestroom'] = data['guestroom'].map({'yes': 1, 'no': 0})\n",
        "data['basement'] = data['basement'].map({'yes': 1, 'no': 0})\n",
        "data['hotwaterheating'] = data['hotwaterheating'].map({'yes': 1, 'no': 0})\n",
        "data['airconditioning'] = data['airconditioning'].map({'yes': 1, 'no': 0})\n",
        "data['prefarea'] = data['prefarea'].map({'yes': 1, 'no': 0})\n"
      ],
      "metadata": {
        "id": "uRPwRL2bVWh0"
      },
      "execution_count": 3,
      "outputs": []
    },
    {
      "cell_type": "code",
      "source": [
        "data = pd.get_dummies(data, columns=['furnishingstatus'], drop_first=True)\n"
      ],
      "metadata": {
        "id": "2KctV9_8Wk5N"
      },
      "execution_count": 4,
      "outputs": []
    },
    {
      "cell_type": "code",
      "source": [
        "X = data.drop('price', axis=1)\n",
        "y = data['price']  # Target column\n"
      ],
      "metadata": {
        "id": "5qxk0x6oWppt"
      },
      "execution_count": 5,
      "outputs": []
    },
    {
      "cell_type": "code",
      "source": [
        "# Train-Test Split\n",
        "from sklearn.model_selection import train_test_split\n",
        "\n",
        "X_train, X_test, y_train, y_test = train_test_split(X, y, test_size=0.2, random_state=42)\n"
      ],
      "metadata": {
        "id": "Ndi42u8CWvku"
      },
      "execution_count": 6,
      "outputs": []
    },
    {
      "cell_type": "code",
      "source": [
        "print(X_train.isnull().sum())\n",
        "print(y_train.isnull().sum())"
      ],
      "metadata": {
        "colab": {
          "base_uri": "https://localhost:8080/"
        },
        "id": "PUFp2rgHXbdK",
        "outputId": "273274f9-1fc3-453d-e726-ac0c5a909716"
      },
      "execution_count": 7,
      "outputs": [
        {
          "output_type": "stream",
          "name": "stdout",
          "text": [
            "area                               0\n",
            "bedrooms                           0\n",
            "bathrooms                          0\n",
            "stories                            0\n",
            "mainroad                           0\n",
            "guestroom                          0\n",
            "basement                           0\n",
            "hotwaterheating                    0\n",
            "airconditioning                    0\n",
            "parking                            0\n",
            "prefarea                           0\n",
            "furnishingstatus_semi-furnished    0\n",
            "furnishingstatus_unfurnished       0\n",
            "dtype: int64\n",
            "0\n"
          ]
        }
      ]
    },
    {
      "cell_type": "code",
      "source": [
        "print(X_train.shape)\n",
        "print(y_train.shape)\n"
      ],
      "metadata": {
        "colab": {
          "base_uri": "https://localhost:8080/"
        },
        "id": "qgh5_ckGXbHR",
        "outputId": "b2f32760-3501-4a2f-a59a-c6705daa967e"
      },
      "execution_count": 8,
      "outputs": [
        {
          "output_type": "stream",
          "name": "stdout",
          "text": [
            "(436, 13)\n",
            "(436,)\n"
          ]
        }
      ]
    },
    {
      "cell_type": "code",
      "source": [
        "print(X_train.dtypes)\n",
        "print(y_train.dtype)\n"
      ],
      "metadata": {
        "colab": {
          "base_uri": "https://localhost:8080/"
        },
        "id": "hVfYD4zNXj0g",
        "outputId": "287bead7-c1c9-4b23-b599-dfbd873639d6"
      },
      "execution_count": 9,
      "outputs": [
        {
          "output_type": "stream",
          "name": "stdout",
          "text": [
            "area                               int64\n",
            "bedrooms                           int64\n",
            "bathrooms                          int64\n",
            "stories                            int64\n",
            "mainroad                           int64\n",
            "guestroom                          int64\n",
            "basement                           int64\n",
            "hotwaterheating                    int64\n",
            "airconditioning                    int64\n",
            "parking                            int64\n",
            "prefarea                           int64\n",
            "furnishingstatus_semi-furnished     bool\n",
            "furnishingstatus_unfurnished        bool\n",
            "dtype: object\n",
            "int64\n"
          ]
        }
      ]
    },
    {
      "cell_type": "code",
      "source": [
        "X_train = X_train.fillna(0)\n"
      ],
      "metadata": {
        "id": "fwrxhYvnXpEo"
      },
      "execution_count": 10,
      "outputs": []
    },
    {
      "cell_type": "code",
      "source": [
        "X_test['mainroad'] = X_test['mainroad'].fillna(0)\n",
        "X_test['guestroom'] = X_test['guestroom'].fillna(0)\n",
        "X_test['basement'] = X_test['basement'].fillna(0)\n"
      ],
      "metadata": {
        "id": "o-TpLsEjX3lF"
      },
      "execution_count": 11,
      "outputs": []
    },
    {
      "cell_type": "code",
      "source": [
        "X_test = X_test.dropna()  # Drop rows with any missing values\n"
      ],
      "metadata": {
        "id": "ZyJal_G1X5qy"
      },
      "execution_count": 12,
      "outputs": []
    },
    {
      "cell_type": "markdown",
      "source": [
        "**Step 3: Train Regression Models**"
      ],
      "metadata": {
        "id": "vJ9gHlDeW4--"
      }
    },
    {
      "cell_type": "code",
      "source": [
        "from sklearn.linear_model import LinearRegression\n",
        "model = LinearRegression()\n",
        "model.fit(X_train, y_train)\n",
        "y_pred = model.predict(X_test)\n"
      ],
      "metadata": {
        "id": "0h0AeQAkW9Lu"
      },
      "execution_count": 13,
      "outputs": []
    },
    {
      "cell_type": "markdown",
      "source": [
        "**Step 4: Evaluate Model**"
      ],
      "metadata": {
        "id": "-SY3GJboYAl5"
      }
    },
    {
      "cell_type": "code",
      "source": [
        "from sklearn.metrics import mean_absolute_error, mean_squared_error, r2_score\n"
      ],
      "metadata": {
        "id": "dtdFjWdlYFng"
      },
      "execution_count": 14,
      "outputs": []
    },
    {
      "cell_type": "code",
      "source": [
        "#   Mean Absolute Error\n",
        "mae = mean_absolute_error(y_test, y_pred)\n",
        "\n",
        "#   Mean Squared Error\n",
        "mse = mean_squared_error(y_test, y_pred)\n",
        "\n",
        "#   R² Score\n",
        "r2 = r2_score(y_test, y_pred)\n",
        "\n",
        "print(f'Mean Absolute Error: {mae}')\n",
        "print(f'Mean Squared Error: {mse}')\n",
        "print(f'R² Score: {r2}')\n"
      ],
      "metadata": {
        "colab": {
          "base_uri": "https://localhost:8080/"
        },
        "id": "22YmR19qYIkR",
        "outputId": "9e4584d2-465a-4721-9aef-3d1b1215b32c"
      },
      "execution_count": 15,
      "outputs": [
        {
          "output_type": "stream",
          "name": "stdout",
          "text": [
            "Mean Absolute Error: 970043.4039201637\n",
            "Mean Squared Error: 1754318687330.6633\n",
            "R² Score: 0.6529242642153185\n"
          ]
        }
      ]
    },
    {
      "cell_type": "markdown",
      "source": [
        "**Step 5: Make Predictions**"
      ],
      "metadata": {
        "id": "bJ3n2ThFYSuq"
      }
    },
    {
      "cell_type": "code",
      "source": [
        "new_data = pd.DataFrame({\n",
        "    'area': [8000],\n",
        "    'bedrooms': [3],\n",
        "    'bathrooms': [2],\n",
        "    'stories': [2],\n",
        "    'mainroad': [1],  # 1 for yes, 0 for no\n",
        "    'guestroom': [0],\n",
        "    'basement': [0],\n",
        "    'hotwaterheating': [0],\n",
        "    'airconditioning': [1],\n",
        "    'parking': [2],\n",
        "    'prefarea': [1],\n",
        "    'furnishingstatus_semi-furnished': [0],\n",
        "    'furnishingstatus_unfurnished': [1]\n",
        "})\n",
        "\n",
        "new_data = new_data.fillna(0)  # Fill missing values\n",
        "\n",
        "# Make predictions\n",
        "new_prediction = model.predict(new_data)\n",
        "print(f'Predicted Price: {new_prediction[0]}')\n"
      ],
      "metadata": {
        "colab": {
          "base_uri": "https://localhost:8080/"
        },
        "id": "Ql2n-Q6OYSX5",
        "outputId": "08f8fc89-ad9a-4949-d186-a7633e3cb8ea"
      },
      "execution_count": 16,
      "outputs": [
        {
          "output_type": "stream",
          "name": "stdout",
          "text": [
            "Predicted Price: 7207237.67417388\n"
          ]
        }
      ]
    },
    {
      "cell_type": "code",
      "source": [
        "\n"
      ],
      "metadata": {
        "id": "u_46TlJ5YiLh"
      },
      "execution_count": 16,
      "outputs": []
    }
  ]
}